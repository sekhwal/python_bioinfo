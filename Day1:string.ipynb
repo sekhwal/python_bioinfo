{
 "cells": [
  {
   "cell_type": "code",
   "execution_count": 3,
   "id": "a609ce2a",
   "metadata": {},
   "outputs": [
    {
     "name": "stdout",
     "output_type": "stream",
     "text": [
      "GGGGGGGGGGG\n"
     ]
    }
   ],
   "source": [
    "dna=\"GGGGGGGGGGG\"\n",
    "print(dna)"
   ]
  },
  {
   "cell_type": "code",
   "execution_count": 5,
   "id": "76067399",
   "metadata": {},
   "outputs": [
    {
     "data": {
      "text/plain": [
       "str"
      ]
     },
     "execution_count": 5,
     "metadata": {},
     "output_type": "execute_result"
    }
   ],
   "source": [
    "type(dna)"
   ]
  },
  {
   "cell_type": "code",
   "execution_count": 7,
   "id": "44a5c2e9",
   "metadata": {},
   "outputs": [
    {
     "name": "stdout",
     "output_type": "stream",
     "text": [
      "gggggaaaagggggg\n"
     ]
    }
   ],
   "source": [
    "dna2=\"gggggaaaagggggg\"\n",
    "print(dna2)"
   ]
  },
  {
   "cell_type": "code",
   "execution_count": 15,
   "id": "ecd7355d",
   "metadata": {},
   "outputs": [
    {
     "data": {
      "text/plain": [
       "'GGGGGAAAAGGGGGG'"
      ]
     },
     "execution_count": 15,
     "metadata": {},
     "output_type": "execute_result"
    }
   ],
   "source": [
    "#convert upper case string\n",
    "dna2.upper()"
   ]
  },
  {
   "cell_type": "code",
   "execution_count": 16,
   "id": "3281d8c5",
   "metadata": {},
   "outputs": [
    {
     "data": {
      "text/plain": [
       "'ggggggggggg'"
      ]
     },
     "execution_count": 16,
     "metadata": {},
     "output_type": "execute_result"
    }
   ],
   "source": [
    "#convert lower case string\n",
    "dna.lower()"
   ]
  },
  {
   "cell_type": "code",
   "execution_count": 18,
   "id": "ca53eaaa",
   "metadata": {},
   "outputs": [
    {
     "data": {
      "text/plain": [
       "11"
      ]
     },
     "execution_count": 18,
     "metadata": {},
     "output_type": "execute_result"
    }
   ],
   "source": [
    "#find the length of seq\n",
    "len(dna)"
   ]
  },
  {
   "cell_type": "code",
   "execution_count": 19,
   "id": "de6bb4a0",
   "metadata": {},
   "outputs": [],
   "source": [
    "#Check for presence or absence of nucleotides in seq\n",
    "dna=\"ACGTTTC\""
   ]
  },
  {
   "cell_type": "code",
   "execution_count": 22,
   "id": "c5d8421e",
   "metadata": {},
   "outputs": [
    {
     "data": {
      "text/plain": [
       "False"
      ]
     },
     "execution_count": 22,
     "metadata": {},
     "output_type": "execute_result"
    }
   ],
   "source": [
    "#'A' in dna\n",
    "'B' in dna"
   ]
  },
  {
   "cell_type": "code",
   "execution_count": 29,
   "id": "cb25d99e",
   "metadata": {},
   "outputs": [
    {
     "name": "stdout",
     "output_type": "stream",
     "text": [
      "Number of A 3\n",
      "Number of G 1\n"
     ]
    }
   ],
   "source": [
    "#Count the number of nuc in a seq\n",
    "a_count=dna.count(\"T\")\n",
    "c_count=dna.count(\"C\")\n",
    "g_count=dna.count(\"G\")\n",
    "t_count=dna.count(\"T\")\n",
    "print(\"Number of A\",a_count)\n",
    "print(\"Number of G\",g_count)"
   ]
  },
  {
   "cell_type": "code",
   "execution_count": 31,
   "id": "5f18ac75",
   "metadata": {},
   "outputs": [
    {
     "name": "stdout",
     "output_type": "stream",
     "text": [
      "42.857142857142854\n"
     ]
    }
   ],
   "source": [
    "#calculate GC\n",
    "gc=g_count+c_count\n",
    "length=len(dna)\n",
    "gc_precent=gc/length*100\n",
    "print(gc_precent)"
   ]
  },
  {
   "cell_type": "code",
   "execution_count": 32,
   "id": "a98c310e",
   "metadata": {},
   "outputs": [
    {
     "name": "stdout",
     "output_type": "stream",
     "text": [
      "ACGTTTCgggggaaaagggggg\n"
     ]
    }
   ],
   "source": [
    "#combine two strings\n",
    "combine=dna+dna2\n",
    "print(combine)"
   ]
  },
  {
   "cell_type": "code",
   "execution_count": 34,
   "id": "2a06f17e",
   "metadata": {},
   "outputs": [
    {
     "name": "stdout",
     "output_type": "stream",
     "text": [
      "ACGTTTC gggggaaaagggggg\n"
     ]
    }
   ],
   "source": [
    "#print in correct format\n",
    "seq=dna+' '+dna2\n",
    "print(seq)"
   ]
  }
 ],
 "metadata": {
  "kernelspec": {
   "display_name": "Python 3 (ipykernel)",
   "language": "python",
   "name": "python3"
  },
  "language_info": {
   "codemirror_mode": {
    "name": "ipython",
    "version": 3
   },
   "file_extension": ".py",
   "mimetype": "text/x-python",
   "name": "python",
   "nbconvert_exporter": "python",
   "pygments_lexer": "ipython3",
   "version": "3.9.7"
  }
 },
 "nbformat": 4,
 "nbformat_minor": 5
}
