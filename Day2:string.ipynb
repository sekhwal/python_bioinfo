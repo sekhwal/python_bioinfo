{
 "cells": [
  {
   "cell_type": "markdown",
   "id": "1e902ab1",
   "metadata": {},
   "source": [
    "Day 2: DNA String"
   ]
  },
  {
   "cell_type": "code",
   "execution_count": null,
   "id": "dacb0756",
   "metadata": {},
   "outputs": [],
   "source": [
    "#Calculate the GC percentage\n",
    "dna=\"ACGGTGTGGAGAGAGTG\""
   ]
  },
  {
   "cell_type": "code",
   "execution_count": 5,
   "id": "a940084e",
   "metadata": {},
   "outputs": [
    {
     "name": "stdout",
     "output_type": "stream",
     "text": [
      "Total number of nuc 17\n"
     ]
    }
   ],
   "source": [
    "#total number of nucleotide\n",
    "num_of_nuc=len(dna)\n",
    "print(\"Total number of nuc\",num_of_nuc)"
   ]
  },
  {
   "cell_type": "code",
   "execution_count": 6,
   "id": "49806599",
   "metadata": {},
   "outputs": [
    {
     "name": "stdout",
     "output_type": "stream",
     "text": [
      "percentage of gc is 58.82352941176471\n",
      "rounded numer 58.82\n"
     ]
    }
   ],
   "source": [
    "#GC percentage\n",
    "gc=dna.count('G')+dna.count('C')\n",
    "ln=len(dna)\n",
    "gc_per=gc/ln * 100\n",
    "print('percentage of gc is', gc_per)\n",
    "##rounding the number\n",
    "gc_round=round(gc_per,2)\n",
    "print(\"rounded numer\", gc_round)"
   ]
  },
  {
   "cell_type": "code",
   "execution_count": 7,
   "id": "af042e69",
   "metadata": {},
   "outputs": [
    {
     "name": "stdout",
     "output_type": "stream",
     "text": [
      "purine number is 13\n"
     ]
    }
   ],
   "source": [
    "#count the number of purines in seq\n",
    "purines=dna.count('A')+dna.count('G')\n",
    "print('purine number is',purines)"
   ]
  },
  {
   "cell_type": "code",
   "execution_count": 8,
   "id": "af1bf9a9",
   "metadata": {},
   "outputs": [
    {
     "name": "stdout",
     "output_type": "stream",
     "text": [
      "pyr number is 4\n"
     ]
    }
   ],
   "source": [
    "##number of pyrimidines\n",
    "pyr=dna.count('C')+dna.count('T')\n",
    "print(\"pyr number is\",pyr)"
   ]
  },
  {
   "cell_type": "code",
   "execution_count": 11,
   "id": "d1f75f45",
   "metadata": {},
   "outputs": [
    {
     "name": "stdout",
     "output_type": "stream",
     "text": [
      "purines percentage 76.47058823529412\n",
      "purines_rounded 76.47\n"
     ]
    }
   ],
   "source": [
    "##percentage of purine\n",
    "purine_per=purines/ln * 100\n",
    "print(\"purines percentage\",purine_per)\n",
    "pyr_round=round(purine_per,2)\n",
    "print(\"purines_rounded\", pyr_round)"
   ]
  }
 ],
 "metadata": {
  "kernelspec": {
   "display_name": "Python 3 (ipykernel)",
   "language": "python",
   "name": "python3"
  },
  "language_info": {
   "codemirror_mode": {
    "name": "ipython",
    "version": 3
   },
   "file_extension": ".py",
   "mimetype": "text/x-python",
   "name": "python",
   "nbconvert_exporter": "python",
   "pygments_lexer": "ipython3",
   "version": "3.9.7"
  }
 },
 "nbformat": 4,
 "nbformat_minor": 5
}
