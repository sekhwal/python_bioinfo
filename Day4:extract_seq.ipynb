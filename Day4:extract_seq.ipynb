{
 "cells": [
  {
   "cell_type": "code",
   "execution_count": 48,
   "id": "5fcfdfdd",
   "metadata": {},
   "outputs": [],
   "source": [
    "###Extract Fasta seque"
   ]
  },
  {
   "cell_type": "code",
   "execution_count": null,
   "id": "d96dee20",
   "metadata": {},
   "outputs": [],
   "source": [
    "#import module\n",
    "from Bio import SeqIO"
   ]
  },
  {
   "cell_type": "code",
   "execution_count": 127,
   "id": "3d2ed660",
   "metadata": {},
   "outputs": [],
   "source": [
    "#read the fasta file\n",
    "filename='/home/mmk6053/Manoj_data/sra_downloads/file2.fasta'\n",
    "sequences=[i for i in SeqIO.parse(filename,'fasta')]"
   ]
  },
  {
   "cell_type": "code",
   "execution_count": 128,
   "id": "d0a72b76",
   "metadata": {},
   "outputs": [
    {
     "data": {
      "text/plain": [
       "186"
      ]
     },
     "execution_count": 128,
     "metadata": {},
     "output_type": "execute_result"
    }
   ],
   "source": [
    "len(sequences)"
   ]
  },
  {
   "cell_type": "code",
   "execution_count": 129,
   "id": "d8a7b5dd",
   "metadata": {},
   "outputs": [],
   "source": [
    "sequence_a=sequences[0]"
   ]
  },
  {
   "cell_type": "code",
   "execution_count": 130,
   "id": "3a1d245c",
   "metadata": {},
   "outputs": [
    {
     "data": {
      "text/plain": [
       "'Rac'"
      ]
     },
     "execution_count": 130,
     "metadata": {},
     "output_type": "execute_result"
    }
   ],
   "source": [
    "sequence_a.name"
   ]
  },
  {
   "cell_type": "code",
   "execution_count": 131,
   "id": "b4aa7237",
   "metadata": {},
   "outputs": [],
   "source": [
    "gene_of_interest=[]"
   ]
  },
  {
   "cell_type": "code",
   "execution_count": 132,
   "id": "985b3fdf",
   "metadata": {},
   "outputs": [],
   "source": [
    "for sequence in sequences:\n",
    "    if sequence.name=='Rag':\n",
    "        gene_of_interest.append(sequence)"
   ]
  },
  {
   "cell_type": "code",
   "execution_count": 133,
   "id": "d9ae797e",
   "metadata": {},
   "outputs": [
    {
     "data": {
      "text/plain": [
       "1"
      ]
     },
     "execution_count": 133,
     "metadata": {},
     "output_type": "execute_result"
    }
   ],
   "source": [
    "len(gene_of_interest)"
   ]
  },
  {
   "cell_type": "code",
   "execution_count": 134,
   "id": "97373d47",
   "metadata": {},
   "outputs": [],
   "source": [
    "for sequence in sequences:\n",
    "    if sequence.name=='Rac':\n",
    "        gene_of_interest=sequence"
   ]
  },
  {
   "cell_type": "code",
   "execution_count": 135,
   "id": "dd3bb162",
   "metadata": {},
   "outputs": [
    {
     "data": {
      "text/plain": [
       "'Rac'"
      ]
     },
     "execution_count": 135,
     "metadata": {},
     "output_type": "execute_result"
    }
   ],
   "source": [
    "gene_of_interest.name"
   ]
  },
  {
   "cell_type": "code",
   "execution_count": 136,
   "id": "25a0260b",
   "metadata": {},
   "outputs": [
    {
     "data": {
      "text/plain": [
       "1"
      ]
     },
     "execution_count": 136,
     "metadata": {},
     "output_type": "execute_result"
    }
   ],
   "source": [
    "SeqIO.write(gene_of_interest,'/home/mmk6053/Manoj_data/sra_downloads/Rac.fasta','fasta')"
   ]
  },
  {
   "cell_type": "code",
   "execution_count": 137,
   "id": "6a414891",
   "metadata": {},
   "outputs": [],
   "source": [
    "sequences_of_interest=['Rag','Rac']"
   ]
  },
  {
   "cell_type": "code",
   "execution_count": 145,
   "id": "6bb528a9",
   "metadata": {},
   "outputs": [],
   "source": [
    "#create a function to extract a sequence\n",
    "\n",
    "def extract_sequence(sequence_name):\n",
    "    #gene_of_interest=''\n",
    "    for sequence in sequences:\n",
    "        if sequence.name==sequence_name:\n",
    "            #gene_of_interest=sequence\n",
    "            return sequence"
   ]
  },
  {
   "cell_type": "code",
   "execution_count": 146,
   "id": "85975de9",
   "metadata": {},
   "outputs": [],
   "source": [
    "gene_of_interest=[]\n",
    "for gene in sequences_of_interest:\n",
    "    hit=extract_sequence(gene)\n",
    "    gene_of_interest.append(hit)"
   ]
  },
  {
   "cell_type": "code",
   "execution_count": 147,
   "id": "3522201f",
   "metadata": {},
   "outputs": [
    {
     "data": {
      "text/plain": [
       "2"
      ]
     },
     "execution_count": 147,
     "metadata": {},
     "output_type": "execute_result"
    }
   ],
   "source": [
    "len(gene_of_interest)"
   ]
  },
  {
   "cell_type": "code",
   "execution_count": 148,
   "id": "0eebba5c",
   "metadata": {},
   "outputs": [
    {
     "data": {
      "text/plain": [
       "2"
      ]
     },
     "execution_count": 148,
     "metadata": {},
     "output_type": "execute_result"
    }
   ],
   "source": [
    "SeqIO.write(gene_of_interest,'/home/mmk6053/Manoj_data/sra_downloads/gene_hits.fasta','fasta')"
   ]
  },
  {
   "cell_type": "code",
   "execution_count": 150,
   "id": "47640a30",
   "metadata": {},
   "outputs": [],
   "source": [
    "#Save each sequence to a different output file\n",
    "for gene in sequence_of_interest:\n",
    "    hit=extract_sequence(gene)\n",
    "    outputname='/home/mmk6053/Manoj_data/sra_downloads/%s.fasta'%gene\n",
    "    SeqIO.write(hit,outputname,'fasta')"
   ]
  }
 ],
 "metadata": {
  "kernelspec": {
   "display_name": "Python 3 (ipykernel)",
   "language": "python",
   "name": "python3"
  },
  "language_info": {
   "codemirror_mode": {
    "name": "ipython",
    "version": 3
   },
   "file_extension": ".py",
   "mimetype": "text/x-python",
   "name": "python",
   "nbconvert_exporter": "python",
   "pygments_lexer": "ipython3",
   "version": "3.9.7"
  }
 },
 "nbformat": 4,
 "nbformat_minor": 5
}
