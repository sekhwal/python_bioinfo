{
 "cells": [
  {
   "cell_type": "code",
   "execution_count": 20,
   "id": "b2474466",
   "metadata": {},
   "outputs": [
    {
     "data": {
      "text/plain": [
       "'A'"
      ]
     },
     "execution_count": 20,
     "metadata": {},
     "output_type": "execute_result"
    }
   ],
   "source": [
    "#Access nuc from the seq\n",
    "DNA=\"ACCGTGTGGm\"\n",
    "DNA[2]\n",
    "DNA[0]"
   ]
  },
  {
   "cell_type": "code",
   "execution_count": 9,
   "id": "9709040f",
   "metadata": {},
   "outputs": [
    {
     "data": {
      "text/plain": [
       "10"
      ]
     },
     "execution_count": 9,
     "metadata": {},
     "output_type": "execute_result"
    }
   ],
   "source": [
    "len(DNA)"
   ]
  },
  {
   "cell_type": "code",
   "execution_count": 11,
   "id": "2d3ec02a",
   "metadata": {},
   "outputs": [
    {
     "data": {
      "text/plain": [
       "'m'"
      ]
     },
     "execution_count": 11,
     "metadata": {},
     "output_type": "execute_result"
    }
   ],
   "source": [
    "#print last element\n",
    "DNA[len(DNA)-1]\n",
    "#DNA[-1]"
   ]
  },
  {
   "cell_type": "code",
   "execution_count": 14,
   "id": "baf28f5d",
   "metadata": {},
   "outputs": [
    {
     "data": {
      "text/plain": [
       "True"
      ]
     },
     "execution_count": 14,
     "metadata": {},
     "output_type": "execute_result"
    }
   ],
   "source": [
    "#compare if both values are the same\n",
    "DNA[-1]==DNA[9]"
   ]
  },
  {
   "cell_type": "code",
   "execution_count": 17,
   "id": "ccfbc9e8",
   "metadata": {},
   "outputs": [
    {
     "data": {
      "text/plain": [
       "'ACCG'"
      ]
     },
     "execution_count": 17,
     "metadata": {},
     "output_type": "execute_result"
    }
   ],
   "source": [
    "#Accessing Sebsequences\n",
    "DNA[4:8]\n",
    "DNA[0:4]"
   ]
  },
  {
   "cell_type": "code",
   "execution_count": 21,
   "id": "d31b5e5c",
   "metadata": {},
   "outputs": [
    {
     "data": {
      "text/plain": [
       "'GTGT'"
      ]
     },
     "execution_count": 21,
     "metadata": {},
     "output_type": "execute_result"
    }
   ],
   "source": [
    "#backward indexing\n",
    "DNA[-7:-3]"
   ]
  },
  {
   "cell_type": "code",
   "execution_count": 23,
   "id": "4547afed",
   "metadata": {},
   "outputs": [
    {
     "data": {
      "text/plain": [
       "False"
      ]
     },
     "execution_count": 23,
     "metadata": {},
     "output_type": "execute_result"
    }
   ],
   "source": [
    "#Negative and positive indexing\n",
    "DNA[-7:-3]==DNA[0:3]"
   ]
  },
  {
   "cell_type": "code",
   "execution_count": 25,
   "id": "c0fcd408",
   "metadata": {},
   "outputs": [
    {
     "data": {
      "text/plain": [
       "'AC'"
      ]
     },
     "execution_count": 25,
     "metadata": {},
     "output_type": "execute_result"
    }
   ],
   "source": [
    "#Adding a third index\n",
    "#DNA[m:n:s]\n",
    "DNA[0:3:2]"
   ]
  },
  {
   "cell_type": "code",
   "execution_count": 27,
   "id": "6dfd1a91",
   "metadata": {},
   "outputs": [
    {
     "data": {
      "text/plain": [
       "'GG'"
      ]
     },
     "execution_count": 27,
     "metadata": {},
     "output_type": "execute_result"
    }
   ],
   "source": [
    "#Neg value third index\n",
    "DNA[-7:-3:2]"
   ]
  },
  {
   "cell_type": "code",
   "execution_count": 42,
   "id": "3ec83c8d",
   "metadata": {},
   "outputs": [
    {
     "data": {
      "text/plain": [
       "'ACGT'"
      ]
     },
     "execution_count": 42,
     "metadata": {},
     "output_type": "execute_result"
    }
   ],
   "source": [
    "#Short hand indexing\n",
    "#DNA[:n]\n",
    "#DNA[m:]\n",
    "#DNA[:]\n",
    "DNA=\"ACGTmGTGGG\"\n",
    "DNA[:4]"
   ]
  },
  {
   "cell_type": "code",
   "execution_count": 43,
   "id": "a1a7608a",
   "metadata": {},
   "outputs": [
    {
     "data": {
      "text/plain": [
       "'ACGTmG'"
      ]
     },
     "execution_count": 43,
     "metadata": {},
     "output_type": "execute_result"
    }
   ],
   "source": [
    "DNA[:-4]"
   ]
  },
  {
   "cell_type": "code",
   "execution_count": 44,
   "id": "f53dd2a6",
   "metadata": {},
   "outputs": [
    {
     "data": {
      "text/plain": [
       "'GTGGG'"
      ]
     },
     "execution_count": 44,
     "metadata": {},
     "output_type": "execute_result"
    }
   ],
   "source": [
    "DNA[5:]"
   ]
  },
  {
   "cell_type": "code",
   "execution_count": 45,
   "id": "a2681d8f",
   "metadata": {},
   "outputs": [
    {
     "data": {
      "text/plain": [
       "'ACGTmGTGGG'"
      ]
     },
     "execution_count": 45,
     "metadata": {},
     "output_type": "execute_result"
    }
   ],
   "source": [
    "#Full seq\n",
    "DNA[:]"
   ]
  }
 ],
 "metadata": {
  "kernelspec": {
   "display_name": "Python 3 (ipykernel)",
   "language": "python",
   "name": "python3"
  },
  "language_info": {
   "codemirror_mode": {
    "name": "ipython",
    "version": 3
   },
   "file_extension": ".py",
   "mimetype": "text/x-python",
   "name": "python",
   "nbconvert_exporter": "python",
   "pygments_lexer": "ipython3",
   "version": "3.9.7"
  }
 },
 "nbformat": 4,
 "nbformat_minor": 5
}
